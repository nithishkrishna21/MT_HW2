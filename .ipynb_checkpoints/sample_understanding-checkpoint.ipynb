{
 "cells": [
  {
   "cell_type": "code",
   "execution_count": 11,
   "id": "41cfeb37-1b0d-48c5-9b6d-af1580f59d32",
   "metadata": {},
   "outputs": [
    {
     "name": "stdout",
     "output_type": "stream",
     "text": [
      "each of them is very complex , but the link between the two is even more complex which makes the whole situation for most people understandably confusing . chacun en lui - même est très complexe et le lien entre les deux le est encore davantage de sorte que pour beaucoup la situation présente est confuse .\n"
     ]
    }
   ],
   "source": [
    "sentence1 = \"each of them is very complex , but the link between the two is even more complex which makes the whole situation for most people understandably confusing .\"\n",
    "sentence2 = \"chacun en lui - même est très complexe et le lien entre les deux le est encore davantage de sorte que pour beaucoup la situation présente est confuse .\"\n",
    "print(sentence1, sentence2)"
   ]
  },
  {
   "cell_type": "code",
   "execution_count": 12,
   "id": "cdf11ce3-664c-4c34-88b7-83b1670638a1",
   "metadata": {},
   "outputs": [
    {
     "data": {
      "text/plain": [
       "['each',\n",
       " 'of',\n",
       " 'them',\n",
       " 'is',\n",
       " 'very',\n",
       " 'complex',\n",
       " ',',\n",
       " 'but',\n",
       " 'the',\n",
       " 'link',\n",
       " 'between',\n",
       " 'the',\n",
       " 'two',\n",
       " 'is',\n",
       " 'even',\n",
       " 'more',\n",
       " 'complex',\n",
       " 'which',\n",
       " 'makes',\n",
       " 'the',\n",
       " 'whole',\n",
       " 'situation',\n",
       " 'for',\n",
       " 'most',\n",
       " 'people',\n",
       " 'understandably',\n",
       " 'confusing',\n",
       " '.']"
      ]
     },
     "execution_count": 12,
     "metadata": {},
     "output_type": "execute_result"
    }
   ],
   "source": [
    "sentence1.strip().split()"
   ]
  },
  {
   "cell_type": "code",
   "execution_count": 13,
   "id": "5b392e46-1219-4b05-b3fa-7305c902af75",
   "metadata": {},
   "outputs": [
    {
     "data": {
      "text/plain": [
       "['chacun',\n",
       " 'en',\n",
       " 'lui',\n",
       " '-',\n",
       " 'même',\n",
       " 'est',\n",
       " 'très',\n",
       " 'complexe',\n",
       " 'et',\n",
       " 'le',\n",
       " 'lien',\n",
       " 'entre',\n",
       " 'les',\n",
       " 'deux',\n",
       " 'le',\n",
       " 'est',\n",
       " 'encore',\n",
       " 'davantage',\n",
       " 'de',\n",
       " 'sorte',\n",
       " 'que',\n",
       " 'pour',\n",
       " 'beaucoup',\n",
       " 'la',\n",
       " 'situation',\n",
       " 'présente',\n",
       " 'est',\n",
       " 'confuse',\n",
       " '.']"
      ]
     },
     "execution_count": 13,
     "metadata": {},
     "output_type": "execute_result"
    }
   ],
   "source": [
    "sentence2.strip().split()"
   ]
  },
  {
   "cell_type": "code",
   "execution_count": 14,
   "id": "47db31ab-6628-481f-8b5e-d8c442e23aa2",
   "metadata": {},
   "outputs": [],
   "source": [
    "mapped = zip(sentence1, sentence2)"
   ]
  },
  {
   "cell_type": "code",
   "execution_count": 15,
   "id": "fe607c7e-0e97-4d55-b470-2a3cae25253a",
   "metadata": {
    "scrolled": true
   },
   "outputs": [
    {
     "data": {
      "text/plain": [
       "<zip at 0x174dafdde80>"
      ]
     },
     "execution_count": 15,
     "metadata": {},
     "output_type": "execute_result"
    }
   ],
   "source": [
    "mapped"
   ]
  },
  {
   "cell_type": "code",
   "execution_count": 16,
   "id": "8882c5bf-16fa-4960-bec2-497375b0fe86",
   "metadata": {},
   "outputs": [
    {
     "data": {
      "text/plain": [
       "[[['e'], ['c']],\n",
       " [['a'], ['h']],\n",
       " [['c'], ['a']],\n",
       " [['h'], ['c']],\n",
       " [[], ['u']],\n",
       " [['o'], ['n']],\n",
       " [['f'], []],\n",
       " [[], ['e']],\n",
       " [['t'], ['n']],\n",
       " [['h'], []],\n",
       " [['e'], ['l']],\n",
       " [['m'], ['u']],\n",
       " [[], ['i']],\n",
       " [['i'], []],\n",
       " [['s'], ['-']],\n",
       " [[], []],\n",
       " [['v'], ['m']],\n",
       " [['e'], ['ê']],\n",
       " [['r'], ['m']],\n",
       " [['y'], ['e']],\n",
       " [[], []],\n",
       " [['c'], ['e']],\n",
       " [['o'], ['s']],\n",
       " [['m'], ['t']],\n",
       " [['p'], []],\n",
       " [['l'], ['t']],\n",
       " [['e'], ['r']],\n",
       " [['x'], ['è']],\n",
       " [[], ['s']],\n",
       " [[','], []],\n",
       " [[], ['c']],\n",
       " [['b'], ['o']],\n",
       " [['u'], ['m']],\n",
       " [['t'], ['p']],\n",
       " [[], ['l']],\n",
       " [['t'], ['e']],\n",
       " [['h'], ['x']],\n",
       " [['e'], ['e']],\n",
       " [[], []],\n",
       " [['l'], ['e']],\n",
       " [['i'], ['t']],\n",
       " [['n'], []],\n",
       " [['k'], ['l']],\n",
       " [[], ['e']],\n",
       " [['b'], []],\n",
       " [['e'], ['l']],\n",
       " [['t'], ['i']],\n",
       " [['w'], ['e']],\n",
       " [['e'], ['n']],\n",
       " [['e'], []],\n",
       " [['n'], ['e']],\n",
       " [[], ['n']],\n",
       " [['t'], ['t']],\n",
       " [['h'], ['r']],\n",
       " [['e'], ['e']],\n",
       " [[], []],\n",
       " [['t'], ['l']],\n",
       " [['w'], ['e']],\n",
       " [['o'], ['s']],\n",
       " [[], []],\n",
       " [['i'], ['d']],\n",
       " [['s'], ['e']],\n",
       " [[], ['u']],\n",
       " [['e'], ['x']],\n",
       " [['v'], []],\n",
       " [['e'], ['l']],\n",
       " [['n'], ['e']],\n",
       " [[], []],\n",
       " [['m'], ['e']],\n",
       " [['o'], ['s']],\n",
       " [['r'], ['t']],\n",
       " [['e'], []],\n",
       " [[], ['e']],\n",
       " [['c'], ['n']],\n",
       " [['o'], ['c']],\n",
       " [['m'], ['o']],\n",
       " [['p'], ['r']],\n",
       " [['l'], ['e']],\n",
       " [['e'], []],\n",
       " [['x'], ['d']],\n",
       " [[], ['a']],\n",
       " [['w'], ['v']],\n",
       " [['h'], ['a']],\n",
       " [['i'], ['n']],\n",
       " [['c'], ['t']],\n",
       " [['h'], ['a']],\n",
       " [[], ['g']],\n",
       " [['m'], ['e']],\n",
       " [['a'], []],\n",
       " [['k'], ['d']],\n",
       " [['e'], ['e']],\n",
       " [['s'], []],\n",
       " [[], ['s']],\n",
       " [['t'], ['o']],\n",
       " [['h'], ['r']],\n",
       " [['e'], ['t']],\n",
       " [[], ['e']],\n",
       " [['w'], []],\n",
       " [['h'], ['q']],\n",
       " [['o'], ['u']],\n",
       " [['l'], ['e']],\n",
       " [['e'], []],\n",
       " [[], ['p']],\n",
       " [['s'], ['o']],\n",
       " [['i'], ['u']],\n",
       " [['t'], ['r']],\n",
       " [['u'], []],\n",
       " [['a'], ['b']],\n",
       " [['t'], ['e']],\n",
       " [['i'], ['a']],\n",
       " [['o'], ['u']],\n",
       " [['n'], ['c']],\n",
       " [[], ['o']],\n",
       " [['f'], ['u']],\n",
       " [['o'], ['p']],\n",
       " [['r'], []],\n",
       " [[], ['l']],\n",
       " [['m'], ['a']],\n",
       " [['o'], []],\n",
       " [['s'], ['s']],\n",
       " [['t'], ['i']],\n",
       " [[], ['t']],\n",
       " [['p'], ['u']],\n",
       " [['e'], ['a']],\n",
       " [['o'], ['t']],\n",
       " [['p'], ['i']],\n",
       " [['l'], ['o']],\n",
       " [['e'], ['n']],\n",
       " [[], []],\n",
       " [['u'], ['p']],\n",
       " [['n'], ['r']],\n",
       " [['d'], ['é']],\n",
       " [['e'], ['s']],\n",
       " [['r'], ['e']],\n",
       " [['s'], ['n']],\n",
       " [['t'], ['t']],\n",
       " [['a'], ['e']],\n",
       " [['n'], []],\n",
       " [['d'], ['e']],\n",
       " [['a'], ['s']],\n",
       " [['b'], ['t']],\n",
       " [['l'], []],\n",
       " [['y'], ['c']],\n",
       " [[], ['o']],\n",
       " [['c'], ['n']],\n",
       " [['o'], ['f']],\n",
       " [['n'], ['u']],\n",
       " [['f'], ['s']],\n",
       " [['u'], ['e']],\n",
       " [['s'], []],\n",
       " [['i'], ['.']]]"
      ]
     },
     "execution_count": 16,
     "metadata": {},
     "output_type": "execute_result"
    }
   ],
   "source": [
    "[[sentence.strip().split() for sentence in pair] for pair in zip(sentence1, sentence2)]"
   ]
  },
  {
   "cell_type": "code",
   "execution_count": null,
   "id": "cdcf895e-8a1a-4a7b-8a48-a0d413bacb2b",
   "metadata": {},
   "outputs": [],
   "source": [
    "#!/usr/bin/env python\n",
    "import optparse\n",
    "import sys\n",
    "from collections import defaultdict\n",
    "\n",
    "optparser = optparse.OptionParser()\n",
    "optparser.add_option(\"-d\", \"--data\", dest=\"train\", default=\"data/hansards\", help=\"Data filename prefix (default=data)\")\n",
    "optparser.add_option(\"-e\", \"--english\", dest=\"english\", default=\"e\", help=\"Suffix of English filename (default=e)\")\n",
    "optparser.add_option(\"-f\", \"--french\", dest=\"french\", default=\"f\", help=\"Suffix of French filename (default=f)\")\n",
    "optparser.add_option(\"-t\", \"--threshold\", dest=\"threshold\", default=0.5, type=\"float\", help=\"Threshold for aligning with Dice's coefficient (default=0.5)\")\n",
    "optparser.add_option(\"-n\", \"--num_sentences\", dest=\"num_sents\", default=100000000000, type=\"int\", help=\"Number of sentences to use for training and alignment\")\n",
    "(opts, _) = optparser.parse_args()\n",
    "f_data = \"%s.%s\" % (opts.train, opts.french)\n",
    "e_data = \"%s.%s\" % (opts.train, opts.english)\n",
    "\n",
    "sys.stderr.write(\"Training with Dice's coefficient...\")\n",
    "bitext = [[sentence.strip().split() for sentence in pair] for pair in zip(open(f_data), open(e_data))][:opts.num_sents]\n",
    "print(bitext)"
   ]
  },
  {
   "cell_type": "code",
   "execution_count": null,
   "id": "a24cb640",
   "metadata": {},
   "outputs": [],
   "source": []
  }
 ],
 "metadata": {
  "kernelspec": {
   "display_name": "Python 3 (ipykernel)",
   "language": "python",
   "name": "python3"
  },
  "language_info": {
   "codemirror_mode": {
    "name": "ipython",
    "version": 3
   },
   "file_extension": ".py",
   "mimetype": "text/x-python",
   "name": "python",
   "nbconvert_exporter": "python",
   "pygments_lexer": "ipython3",
   "version": "3.12.4"
  }
 },
 "nbformat": 4,
 "nbformat_minor": 5
}
